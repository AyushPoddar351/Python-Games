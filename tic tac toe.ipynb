{
 "cells": [
  {
   "cell_type": "code",
   "execution_count": 6,
   "id": "c529fbc4",
   "metadata": {
    "scrolled": true
   },
   "outputs": [
    {
     "name": "stdout",
     "output_type": "stream",
     "text": [
      "Welcome to Tic-Tac-Toe!\n"
     ]
    },
    {
     "ename": "KeyError",
     "evalue": "'2'",
     "output_type": "error",
     "traceback": [
      "\u001b[1;31m---------------------------------------------------------------------------\u001b[0m",
      "\u001b[1;31mKeyError\u001b[0m                                  Traceback (most recent call last)",
      "\u001b[1;32m~\\AppData\\Local\\Temp\\ipykernel_2316\\860880090.py\u001b[0m in \u001b[0;36m<module>\u001b[1;34m\u001b[0m\n\u001b[0;32m     90\u001b[0m \u001b[1;33m\u001b[0m\u001b[0m\n\u001b[0;32m     91\u001b[0m \u001b[1;32mif\u001b[0m \u001b[0m__name__\u001b[0m \u001b[1;33m==\u001b[0m \u001b[1;34m'__main__'\u001b[0m\u001b[1;33m:\u001b[0m\u001b[1;33m\u001b[0m\u001b[1;33m\u001b[0m\u001b[0m\n\u001b[1;32m---> 92\u001b[1;33m     \u001b[0mmain\u001b[0m\u001b[1;33m(\u001b[0m\u001b[1;33m)\u001b[0m \u001b[1;31m# Call main() if this module is run, but not when imported.\u001b[0m\u001b[1;33m\u001b[0m\u001b[1;33m\u001b[0m\u001b[0m\n\u001b[0m",
      "\u001b[1;32m~\\AppData\\Local\\Temp\\ipykernel_2316\\860880090.py\u001b[0m in \u001b[0;36mmain\u001b[1;34m()\u001b[0m\n\u001b[0;32m     13\u001b[0m     \u001b[1;32mwhile\u001b[0m \u001b[1;32mTrue\u001b[0m\u001b[1;33m:\u001b[0m\u001b[1;31m# Main game loop.\u001b[0m\u001b[1;33m\u001b[0m\u001b[1;33m\u001b[0m\u001b[0m\n\u001b[0;32m     14\u001b[0m         \u001b[1;31m# Display the board on the screen:\u001b[0m\u001b[1;33m\u001b[0m\u001b[1;33m\u001b[0m\u001b[0m\n\u001b[1;32m---> 15\u001b[1;33m         \u001b[0mprint\u001b[0m\u001b[1;33m(\u001b[0m\u001b[0mgetBoardStr\u001b[0m\u001b[1;33m(\u001b[0m\u001b[0mgameBoard\u001b[0m\u001b[1;33m)\u001b[0m\u001b[1;33m)\u001b[0m\u001b[1;33m\u001b[0m\u001b[1;33m\u001b[0m\u001b[0m\n\u001b[0m\u001b[0;32m     16\u001b[0m \u001b[1;33m\u001b[0m\u001b[0m\n\u001b[0;32m     17\u001b[0m         \u001b[1;31m# Keep asking the player until they enter a number 1-9:\u001b[0m\u001b[1;33m\u001b[0m\u001b[1;33m\u001b[0m\u001b[0m\n",
      "\u001b[1;32m~\\AppData\\Local\\Temp\\ipykernel_2316\\860880090.py\u001b[0m in \u001b[0;36mgetBoardStr\u001b[1;34m(board)\u001b[0m\n\u001b[0;32m     55\u001b[0m         \u001b[1;33m{\u001b[0m\u001b[1;33m}\u001b[0m\u001b[1;33m|\u001b[0m\u001b[1;33m{\u001b[0m\u001b[1;33m}\u001b[0m\u001b[1;33m|\u001b[0m\u001b[1;33m{\u001b[0m\u001b[1;33m}\u001b[0m \u001b[1;36m4\u001b[0m \u001b[1;36m5\u001b[0m \u001b[1;36m6\u001b[0m\u001b[1;33m\u001b[0m\u001b[1;33m\u001b[0m\u001b[0m\n\u001b[0;32m     56\u001b[0m         \u001b[1;33m-\u001b[0m\u001b[1;33m+\u001b[0m\u001b[1;33m-\u001b[0m\u001b[1;33m+\u001b[0m\u001b[1;33m-\u001b[0m\u001b[1;33m\u001b[0m\u001b[1;33m\u001b[0m\u001b[0m\n\u001b[1;32m---> 57\u001b[1;33m         {}|{}|{} 7 8 9'''.format(board['1'], board['2'], board['3'],\n\u001b[0m\u001b[0;32m     58\u001b[0m                                  \u001b[0mboard\u001b[0m\u001b[1;33m[\u001b[0m\u001b[1;34m'4'\u001b[0m\u001b[1;33m]\u001b[0m\u001b[1;33m,\u001b[0m \u001b[0mboard\u001b[0m\u001b[1;33m[\u001b[0m\u001b[1;34m'5'\u001b[0m\u001b[1;33m]\u001b[0m\u001b[1;33m,\u001b[0m \u001b[0mboard\u001b[0m\u001b[1;33m[\u001b[0m\u001b[1;34m'6'\u001b[0m\u001b[1;33m]\u001b[0m\u001b[1;33m,\u001b[0m\u001b[1;33m\u001b[0m\u001b[1;33m\u001b[0m\u001b[0m\n\u001b[0;32m     59\u001b[0m                                  board['7'], board['8'], board['9'])\n",
      "\u001b[1;31mKeyError\u001b[0m: '2'"
     ]
    }
   ],
   "source": [
    "\"\"\"Tic-Tac-Toe, by Al Sweigart al@inventwithpython.com\n",
    "The classic board game. View this code at https://nostarch.com/big-book-small-python-projects\n",
    "Tags: short, board game, game, two-player\"\"\"\n",
    "\n",
    "ALL_SPACES = ['1', '2', '3', '4', '5', '6', '7', '8', '9']\n",
    "X, O, BLANK = 'X', 'O', ' ' # Constants for string values.\n",
    "\n",
    "def main():\n",
    "    print('Welcome to Tic-Tac-Toe!')\n",
    "    gameBoard = getBlankBoard() # Create a TTT board dictionary.\n",
    "    currentPlayer, nextPlayer = X, O # X goes first, O goes next.\n",
    "\n",
    "    while True:# Main game loop.\n",
    "        # Display the board on the screen:\n",
    "        print(getBoardStr(gameBoard))\n",
    "\n",
    "        # Keep asking the player until they enter a number 1-9:\n",
    "        move = None\n",
    "        while not isValidSpace(gameBoard, move):\n",
    "            print('What is {}\\'s move? (1-9)'.format(currentPlayer))\n",
    "            move = input('> ')\n",
    "        updateBoard(gameBoard, move, currentPlayer) # Make the move.\n",
    "\n",
    "        # Check if the game is over:\n",
    "        if isWinner(gameBoard, currentPlayer): # Check for a winner.\n",
    "            print(getBoardStr(gameBoard))\n",
    "            print(currentPlayer + ' has won the game!')\n",
    "            break\n",
    "        elif isBoardFull(gameBoard): # Check for a tie.\n",
    "            print(getBoardStr(gameBoard))\n",
    "            print('The game is a tie!')\n",
    "            break\n",
    "        # Switch turns to the next player:\n",
    "        currentPlayer, nextPlayer = nextPlayer, currentPlayer\n",
    "    print('Thanks for playing!')\n",
    "    \n",
    "def getBlankBoard():\n",
    "    \"\"\"Create a new, blank tic-tac-toe board.\"\"\"\n",
    "    # Map of space numbers: 1|2|3\n",
    "    #                       -+-+-\n",
    "    #                       4|5|6\n",
    "    #                       -+-+-\n",
    "    #                       7|8|9\n",
    "    # Keys are 1 through 9, the values are X, O, or BLANK:\n",
    "    board = {}\n",
    "    for space in ALL_SPACES:\n",
    "        board[space] = BLANK # All spaces start as blank.\n",
    "    return board\n",
    "    \n",
    "def getBoardStr(board):\n",
    "    \"\"\"Return a text-representation of the board.\"\"\"\n",
    "    return '''\n",
    "        {}|{}|{} 1 2 3\n",
    "        -+-+-\n",
    "        {}|{}|{} 4 5 6\n",
    "        -+-+-\n",
    "        {}|{}|{} 7 8 9'''.format(board['1'], board['2'], board['3'],\n",
    "                                 board['4'], board['5'], board['6'],\n",
    "                                 board['7'], board['8'], board['9'])\n",
    " \n",
    "def isValidSpace(board, space):\n",
    "    \"\"\"Returns True if the space on the board is a valid space number\n",
    "    and the space is blank.\"\"\"\n",
    "    return space in ALL_SPACES and board[space] == BLANK\n",
    "\n",
    "def isWinner(board, player):\n",
    "    \"\"\"Return True if player is a winner on this TTTBoard.\"\"\"\n",
    "    # Shorter variable names used here for readability:\n",
    "    b, p = board, player\n",
    "    # Check for 3 marks across 3 rows, 3 columns, and 2 diagonals.\n",
    "    return ((b['1'] == b['2'] == b['3'] == p) or # Across top\n",
    "            (b['4'] == b['5'] == b['6'] == p) or # Across middle\n",
    "            (b['7'] == b['8'] == b['9'] == p) or # Across bottom\n",
    "            (b['1'] == b['4'] == b['7'] == p) or # Down left\n",
    "            (b['2'] == b['5'] == b['8'] == p) or # Down middle\n",
    "            (b['3'] == b['6'] == b['9'] == p) or # Down right\n",
    "            (b['3'] == b['5'] == b['7'] == p) or # Diagonal\n",
    "            (b['1'] == b['5'] == b['9'] == p)) # Diagonal\n",
    " \n",
    "def isBoardFull(board):\n",
    "    \"\"\"Return True if every space on the board has been taken.\"\"\"\n",
    "    for space in ALL_SPACES:\n",
    "        if board[space] == BLANK:\n",
    "            return False # If any space is blank, return False.\n",
    "    return True # No spaces are blank, so return True.\n",
    " \n",
    "def updateBoard(board, space, mark):\n",
    "    \"\"\"Sets the space on the board to mark.\"\"\"\n",
    "    board[space] = mark\n",
    "\n",
    "if __name__ == '__main__':\n",
    "    main() # Call main() if this module is run, but not when imported.\n"
   ]
  },
  {
   "cell_type": "code",
   "execution_count": null,
   "id": "ea1c4a35",
   "metadata": {},
   "outputs": [],
   "source": []
  }
 ],
 "metadata": {
  "kernelspec": {
   "display_name": "Python 3 (ipykernel)",
   "language": "python",
   "name": "python3"
  },
  "language_info": {
   "codemirror_mode": {
    "name": "ipython",
    "version": 3
   },
   "file_extension": ".py",
   "mimetype": "text/x-python",
   "name": "python",
   "nbconvert_exporter": "python",
   "pygments_lexer": "ipython3",
   "version": "3.9.13"
  }
 },
 "nbformat": 4,
 "nbformat_minor": 5
}
